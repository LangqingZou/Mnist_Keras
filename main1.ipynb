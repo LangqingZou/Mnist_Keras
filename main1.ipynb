{
 "cells": [
  {
   "cell_type": "code",
   "execution_count": 1,
   "id": "bf7ed813",
   "metadata": {},
   "outputs": [],
   "source": [
    "'''全连接DNN'''\n",
    "import numpy as np\n",
    "from tensorflow.python.keras.models import Sequential\n",
    "from tensorflow.python.keras.layers.core import Dense,Dropout,Activation\n",
    "from tensorflow.keras.optimizers import SGD,Adam\n",
    "from tensorflow.python.keras.utils import np_utils\n",
    "from tensorflow.python.keras.datasets import mnist"
   ]
  },
  {
   "cell_type": "code",
   "execution_count": 2,
   "id": "ad6d04db",
   "metadata": {},
   "outputs": [],
   "source": [
    "def load():\n",
    "    (x_train,y_train),(x_test,y_test)=mnist.load_data()\n",
    "    number=10000\n",
    "    x_train=x_train[0:number]\n",
    "    y_train=y_train[0:number]\n",
    "    # print(x_train.shape) 10000个28行28列的二维数组\n",
    "    # (10000, 28, 28)\n",
    "\n",
    "    # print(x_train.shape)\n",
    "    # (10000, 784) 10000行784列 --  每一列代表一张图片\n",
    "\n",
    "    x_train=x_train.reshape(number,28*28)\n",
    "    x_test=x_test.reshape(x_test.shape[0],28*28) # x_test.shape[0] = 10000\n",
    "    x_train=x_train.astype('float32')\n",
    "    x_test=x_test.astype('float32')\n",
    "    # one-hot encode\n",
    "    y_train=np_utils.to_categorical(y_train,10)\n",
    "    y_test=np_utils.to_categorical(y_test,10)\n",
    "    # normalize\n",
    "    x_train=x_train/255\n",
    "    x_test=x_test/255\n",
    "    return (x_train,y_train),(x_test,y_test)"
   ]
  },
  {
   "cell_type": "code",
   "execution_count": 3,
   "id": "bdcc25e0",
   "metadata": {},
   "outputs": [],
   "source": [
    "(x_train,y_train),(x_test,y_test)=load()\n",
    "# x_train.shape: (10000, 784)\n",
    "# x_test.shape: (10000, 784)\n",
    "# y_train.shape: (10000, 10)\n",
    "# y_test.shape: (10000, 10)"
   ]
  },
  {
   "cell_type": "code",
   "execution_count": 13,
   "id": "b5acbf3a",
   "metadata": {},
   "outputs": [
    {
     "name": "stdout",
     "output_type": "stream",
     "text": [
      "Epoch 1/20\n",
      "100/100 [==============================] - 1s 4ms/step - loss: 0.8400 - accuracy: 0.7763\n",
      "Epoch 2/20\n",
      "100/100 [==============================] - 0s 4ms/step - loss: 0.3403 - accuracy: 0.9020\n",
      "Epoch 3/20\n",
      "100/100 [==============================] - 0s 4ms/step - loss: 0.2538 - accuracy: 0.9274\n",
      "Epoch 4/20\n",
      "100/100 [==============================] - 0s 4ms/step - loss: 0.1998 - accuracy: 0.9417\n",
      "Epoch 5/20\n",
      "100/100 [==============================] - 0s 4ms/step - loss: 0.1646 - accuracy: 0.9526\n",
      "Epoch 6/20\n",
      "100/100 [==============================] - 0s 4ms/step - loss: 0.1408 - accuracy: 0.9586\n",
      "Epoch 7/20\n",
      "100/100 [==============================] - 0s 4ms/step - loss: 0.1162 - accuracy: 0.9665\n",
      "Epoch 8/20\n",
      "100/100 [==============================] - 0s 4ms/step - loss: 0.1000 - accuracy: 0.9716\n",
      "Epoch 9/20\n",
      "100/100 [==============================] - 0s 4ms/step - loss: 0.0834 - accuracy: 0.9784\n",
      "Epoch 10/20\n",
      "100/100 [==============================] - 0s 4ms/step - loss: 0.0685 - accuracy: 0.9824\n",
      "Epoch 11/20\n",
      "100/100 [==============================] - 0s 4ms/step - loss: 0.0596 - accuracy: 0.9846\n",
      "Epoch 12/20\n",
      "100/100 [==============================] - 0s 4ms/step - loss: 0.0466 - accuracy: 0.9886\n",
      "Epoch 13/20\n",
      "100/100 [==============================] - 0s 4ms/step - loss: 0.0371 - accuracy: 0.9925\n",
      "Epoch 14/20\n",
      "100/100 [==============================] - 0s 4ms/step - loss: 0.0330 - accuracy: 0.9934\n",
      "Epoch 15/20\n",
      "100/100 [==============================] - 0s 4ms/step - loss: 0.0265 - accuracy: 0.9953\n",
      "Epoch 16/20\n",
      "100/100 [==============================] - 0s 4ms/step - loss: 0.0220 - accuracy: 0.9969\n",
      "Epoch 17/20\n",
      "100/100 [==============================] - 0s 4ms/step - loss: 0.0185 - accuracy: 0.9968\n",
      "Epoch 18/20\n",
      "100/100 [==============================] - 0s 4ms/step - loss: 0.0149 - accuracy: 0.9984\n",
      "Epoch 19/20\n",
      "100/100 [==============================] - 0s 4ms/step - loss: 0.0121 - accuracy: 0.9991\n",
      "Epoch 20/20\n",
      "100/100 [==============================] - 0s 4ms/step - loss: 0.0100 - accuracy: 0.9994\n",
      "313/313 [==============================] - 0s 1ms/step - loss: 0.0080 - accuracy: 0.9997\n",
      "313/313 [==============================] - 0s 1ms/step - loss: 0.1599 - accuracy: 0.9549\n",
      "----------------------------------\n",
      "[[7.4632247e-08 5.6276379e-09 3.5667043e-05 ... 9.9980634e-01\n",
      "  8.4852815e-08 7.1010891e-07]\n",
      " [9.3896397e-06 7.8656893e-05 9.9827278e-01 ... 4.8072177e-09\n",
      "  1.0325498e-04 1.0792495e-09]\n",
      " [3.4438904e-07 9.9833494e-01 9.5803180e-04 ... 3.5064257e-04\n",
      "  2.1051690e-04 1.4035195e-06]\n",
      " ...\n",
      " [1.5386702e-12 2.8266708e-08 8.3291700e-11 ... 6.8090498e-07\n",
      "  5.6981003e-07 1.3576157e-06]\n",
      " [3.6520720e-07 5.1118612e-08 7.1681407e-09 ... 5.2450910e-10\n",
      "  1.6132342e-05 1.3763256e-10]\n",
      " [2.2643960e-08 1.1447794e-11 6.5789841e-08 ... 2.8325902e-14\n",
      "  1.6511854e-11 1.4781325e-11]]\n"
     ]
    }
   ],
   "source": [
    "# 尝试把sigmoid都改为relu\n",
    "model=Sequential()\n",
    "model.add(Dense(input_dim=28*28,units=600,activation='relu'))\n",
    "model.add(Dense(units=600,activation='relu'))\n",
    "# for i in range(10):\n",
    "#     model.add(Dense(units=600,activation='relu'))\n",
    "model.add(Dense(units=600,activation='relu'))  # Dense:全连接层\n",
    "model.add(Dense(units=10,activation='softmax'))\n",
    "\n",
    "# 分类问题 mse不适合，将loss mse(mean square error) function 改为categorical_crossentropy\n",
    "# 尝试把 SGD 改成 adam\n",
    "model.compile(loss='categorical_crossentropy',optimizer=SGD(learning_rate=0.1),metrics=['accuracy'])\n",
    "model.fit(x_train,y_train,batch_size=100,epochs=20)\n",
    "train_result= model.evaluate(x_train,y_train)\n",
    "test_result= model.evaluate(x_test,y_test)\n",
    "# print('TRAIN ACC:',train_result[1])\n",
    "# print('TEST ACC:',test_result[1])\n",
    "print(\"----------------------------------\")\n",
    "print(model.predict(x_test, batch_size=100, verbose=0, steps=None))"
   ]
  },
  {
   "cell_type": "code",
   "execution_count": null,
   "id": "b4a7a307",
   "metadata": {},
   "outputs": [],
   "source": []
  }
 ],
 "metadata": {
  "kernelspec": {
   "display_name": "Python 3",
   "language": "python",
   "name": "python3"
  },
  "language_info": {
   "codemirror_mode": {
    "name": "ipython",
    "version": 3
   },
   "file_extension": ".py",
   "mimetype": "text/x-python",
   "name": "python",
   "nbconvert_exporter": "python",
   "pygments_lexer": "ipython3",
   "version": "3.8.8"
  }
 },
 "nbformat": 4,
 "nbformat_minor": 5
}
